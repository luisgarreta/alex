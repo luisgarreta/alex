{
    "cells": [
        {
            "cell_type": "markdown",
            "metadata": {},
            "source": "\n"
        },
        {
            "cell_type": "code",
            "execution_count": null,
            "metadata": {},
            "outputs": [],
            "source": [
                "knitr::opts_chunk$set(echo = TRUE, cache = FALSE, message=TRUE)\n",
                "options (width=200)\n"
            ]
        },
        {
            "cell_type": "markdown",
            "metadata": {},
            "source": [
                "# Instalación\n",
                "\n",
                "-   Primero, desde Rstudio instalar el paquete \"remotes\" para manejar la instalación con todas las dependencias de forma automática.\n",
                "\n",
                "-   Segundo, ejecutar la función \"install_local\" con el nombre del archivo del paquete \"desistimiento.\n",
                "\n",
                "-   Si solicita alguna opción de actualización, se la puede saltar presionando \"ENTER\" o \"INTRO\".\n",
                "\n",
                "Así:\n"
            ]
        },
        {
            "cell_type": "code",
            "execution_count": null,
            "metadata": {},
            "outputs": [],
            "source": [
                "install.packages(\"remotes\")\n",
                "remotes::install_local(\"desistimiento_0.94.tar.gz\", upgrade=FALSE)\n"
            ]
        },
        {
            "cell_type": "markdown",
            "metadata": {},
            "source": [
                "# Introducción\n",
                "\n",
                "El objetivo de este análisis predictivo es crear un modelo que permita predecir si un nuevo desmovilizado que ingresa a un proceso de desmovilización podría culminarlo de forma exitosa, o por el contrario puede fracasar y abandonar el proceso. Para crear este modelo se toman los datos existentes de desmovilizados que han ingresado al proceso y de los cuales se conoce la situación final del desmovilizado, entre estas situaciones las de éxito o fracaso. Los datos de desmovilizados se han tomado de los sitios públicos en internet donde el gobierno de Colombia publica este tipo de datos [REFERENCIA].\n",
                "\n",
                "# Metodología\n",
                "\n",
                "La metodología que seguimos para el proceso de analítica de datos, CRISP-DM [Wirth2000] se presenta en la siguiente gráfica, y a continuación se describe brevemente:\n",
                "\n",
                "![](images/img-Metodologia.png){width=\"300\"}\n",
                "\n",
                "## Etapas\n",
                "\n",
                "1.  **Comprensión del negocio**: se refiere a entender el problema, los objetivos del proyecto en cuanto a la analítica de datos, que se está tratando.\n",
                "\n",
                "2.  **Comprensión de los datos:** se refiere a entender los datos, su estructura, sus tipos, las limitantes y posibles soluciones.\n",
                "\n",
                "3.  **Preparación de datos**: Esta es la etapa más importante del proceso e involucra varias actividades, entre las principales:\n",
                "\n",
                "    1.  Primero, se necesita \"formatear\" los datos para que se puedan procesar en una herramienta de software, en nuestro caso seleccionamos el ambiente de programación R para realizar todo el procesamiento, análisis, modelamiento, y pruebas.\n",
                "\n",
                "    2.  Segundo, se necesita hacer una selección de variables o características (Feature selection), es decir, tomar diferentes medidas a las características (columnas) y ver que tan buenas o que tanto aportan (ej. ver si algunas características no aportan nada o dicen lo mismo que otra osea están correlacionadas, etc.) .\n",
                "\n",
                "    3.  Tercero, una vez se tengan las observaciones y las características, se necesita un proceso de limpieza de los datos, lo cual involucra varioss procedimientos, desde buscar datos faltantes o erróneos y decidir si se elimina la fila o toda la columna, o mejor se imputan (predicen) los faltantes de acuerdo a los datos de la muestra.\n",
                "\n",
                "    4.  Cuarto, con los datos ya limpios se necesita transformarlos ya sea a datos numéricos o a categorías o una combinación, para que los pueda aceptar el modelo o modelos de predicción que se elijan.\n",
                "\n",
                "4.  **Modelamiento**: En esta fase se selecciona un modelo conocido de predicción y se buscan los mejores parámetros que permitan que el modelo prediga con mayor exactitud si un nuevo desmovilizado tendría éxtio o fracaso en el proceso de desmovilización que inicia. Este proceso toma un subconjurnto del total de datos de desmovilizados y a través de cada una de las observaciones busca ajustar sus parámetros hasta alcanzar los valores que le permiten realizar predicciones de gran exactitud.\n",
                "\n",
                "5.  **Evaluación:** Aquí se busca evaluar la calidad del modelo. El modelo se avalúa con un subconjunto de datos del total de desmovilizados, para los cuales se conoce si tuvieron éxtio o fracaso en el proceso de desmovilización. Se hacen las predicciones, se comparan con los datos reales, y se calculan unas métricas relacionadas con la exactitud de las predicciones.\n",
                "\n",
                "6.  **Despliegue:** Esta etapa se refiere a donde va a quedar el modelo elaborado en las etapas anteriores y como se va a utilizar. En nuestro caso, el modelo va a corresponder a una herramienta de software que específicamente va a ser un paquete del lenguaje R que cualquier persona interesada podrá descargar, instalar, y usar para hacer predicciones con datos de nuevos desmovilizados.\n",
                "\n",
                "## Paquete de funciones en R\n",
                "\n",
                "Para soportar la metodología anterior y que lo hallazgos de este análisis predictivo se puedan volver a obtener, es decir que el análisis sea reproducilble, hemos construido un paquete de funciones de R llamado \"desistimiento\" el cual contiene: todos los datos de las estadísticas de los desmovilizados que se utilizan para la creación del modelo predictivo; todas las funciones necesarias para la preparación de esos datos; todas las funciones para el análisis de los datos; todas las funciones para la creación y evaluación del modelo; y las funciones para utilizar el modelo para predecir la situación final de nuevos desmovilizados.\n",
                "\n",
                "El paquete se llama desde el ambiente de R así:\n"
            ]
        },
        {
            "cell_type": "code",
            "execution_count": null,
            "metadata": {},
            "outputs": [],
            "source": [
                "library (desistimiento)\n",
                "\n"
            ]
        },
        {
            "cell_type": "markdown",
            "metadata": {},
            "source": [
                "# Comprensión del Negocio\n",
                "\n",
                "El objetivo de este análisis predictivo es crear un model que permita predecir si un nuevo individuo que ingresa al proceso de desmovilización podría culminarlo con éxito o podría fracasar, todo esto dependiendo de una serie de características que presenta cada desmovilizado de forma particular.\n",
                "\n",
                "# Comprensión de los Datos\n",
                "\n",
                "Como datos de entrada se tiene una tabla con la información de 55675 desmovilizados correspondiente a 36 características. Es decir, una tabla de datos de 55675 filas por 36 columnas. Cada fila corresponde a un desmovilizado y vamos a referirnos a esta fila como una observación. Así mismo cada columna corresponde a un atributo o información que se tiene del desmovilizado y vamos a referirnos a esta columna como una variable o característica.\n",
                "\n",
                "De estas 36 variables, una de ellas corresponde a la variable que se busca predecir o variable dependiente y el resto corresponde a las variables que ayudan a realizar la predicción, o variables independientes. Matemáticamente se puede ver como una ecuación de la forma:\n",
                "\n",
                "Y = aX1 + bX2 + ...zX35\n",
                "\n",
                "donde Y es la variable dependiente, X1, X2,..., X35 son las variables independientes, y las letras a...z son los parámetros del modelo. Estos últimos son los que el modelo predictivo que se elija buscaría determinar o por lo menos llegar a un valor muy cercano al real.\n",
                "\n",
                "De acuerdo al conjunto de datos, las variables y su significado son las siguientes:\n",
                "\n",
                "-   SituacionFinal: Variable dependiente a predecir. Indica la situación actual del desmovilizado dentro del proceso, y puede varios valores, pero para la creación del modelo predictivo, vamos a tomar solo dos: CULMINADO, que corresponde a éxito en el procesos, y FUERA, que corresponde a fracaso en el proceso.\n",
                "\n",
                "-   TipoDesmovilizacion: DESCRIBIR DE FORMA CORTA ESTA Y LAS DEMAS VARIABLES\n",
                "\n",
                "-   ExGrupo:\n",
                "\n",
                "-   AñoDesmovilizacion\n",
                "\n",
                "-   Ingreso\n",
                "\n",
                "-   AñoIndependizacion\n",
                "\n",
                "-   GrupoEtario\n",
                "\n",
                "-   Sexo\n",
                "\n",
                "-   DptoResidencia\n",
                "\n",
                "-   MunicipioResidencia\n",
                "\n",
                "-   BeneficioTRV\n",
                "\n",
                "-   BeneficioFA\n",
                "\n",
                "-   BeneficioFPT\n",
                "\n",
                "-   BeneficioPDT\n",
                "\n",
                "-   NivelEducativo\n",
                "\n",
                "-   MáximoNivelFPT\n",
                "\n",
                "-   LineaMaximoNivelFPT\n",
                "\n",
                "-   OcupacionEconomica\n",
                "\n",
                "-   TieneDesembolsoBIE\n",
                "\n",
                "-   TipoBIE\n",
                "\n",
                "-   DesembolsoBIE\n",
                "\n",
                "-   EstadoISUN\n",
                "\n",
                "-   PoseeServicioSocial\n",
                "\n",
                "-   EstadoVinculaciónASS\n",
                "\n",
                "-   TipoASSVinculada\n",
                "\n",
                "-   PoseeCensoFamilia\n",
                "\n",
                "-   PoseePareja\n",
                "\n",
                "-   NroHijos\n",
                "\n",
                "-   NroGrupoFamiliar\n",
                "\n",
                "-   CensoHabitabilidad\n",
                "\n",
                "-   TipoVivienda\n",
                "\n",
                "-   RegimenTenenciaVivienda\n",
                "\n",
                "-   ServiciosPublicos\n",
                "\n",
                "-   RégimenSalud\n",
                "\n",
                "-   ClasificaciónComponente\\\n",
                "\n",
                "# Preparación de los datos.\n",
                "\n",
                "Esta etapa es la más importante de todo el proceso ya que involucra tomar los datos originales, que pueden tener varios problemas, corregir esos problemas, y dejarlos listos para que a partir de ellos se pueda crear un modelo de predicción confiable.\n",
                "\n",
                "Entre los problemas que se pueden encontrar en los datos están:\n",
                "\n",
                "-   **Problemas de digitación**: Estos problemas pueden abarcar tanto carácteres o símbolos incorrectos en los valores de los datos, como también separación confusa o erronea de las columnas o variables. Todo esto genera problemas en la lectura de los datos, ya sea que no se puedan leer, que se lean de forma erronea, o que las herramientas automática que estamos utilizando, en nuestro caso el ambiente de programación R, no sea capaz de determinarlos.\n",
                "\n",
                "-   **Problemas de formato**: Aquí pueden darse problemas en determinar el tipo correcto de los datos, por ejemplo valores numéricos o fechas pueden tomarse erroneamente como cadenas de texto.\n",
                "\n",
                "-   **Problemas de datos nulos**: Columnas con datos incompletos, erroneos, o inexistentes.\n",
                "\n",
                "-   **Variables correlacionadas**: Variables o características que estén midiendo lo mismo o por lo menos están bastante correlacionadas y por lo tanto se podría mantener dentro del análisis solo una de ellas y eliminar las otras.\n",
                "\n",
                "-   **Nombres largos**: Algunas variables o los estados que tienen esas variables pueden ser textos muy largos. Esto puede dificultar la presentación de resultados debido a la limitación de espacio que tiene una pantalla de computador o una hoja de papel. Por lo tanto se debería, en lo posible, abreviar esos nombres.\n",
                "\n",
                "-   **Datos no necesarios**: Algunos datos no son de interés para este análisis y por lo tanto se deben eliminar para simplificar el conjunto de datos. Esto sucede con la variable dependiente \"SituacionFinal\" en la cual solo interesan dos estados: \"CULMINADO\" y \"FUERA\". Los demás estados no interesan por ahora ya que el modelo predictivo que vamos a crear es binario y va a predecir uno de estos dos estados.\n",
                "\n",
                "## Datos formateados\n",
                "\n",
                "La preparación de los datos inicia con el conjunto de datos original que tiene problemas de digitación y problemas de formato como comillas mal ubicadas que no permiten su lectura correcta. Además, el conjunto de datos original contenía dos variables de tipo fecha que el sistema R los leía como números, por ejemplo \"2009\" debería estar escrito como fecha así \"2009-01-01\". Estos problemas se corrigieron y se obtuvo una versión con formato para leerse en el ambiente R. La función que los obtiene se llama \"ds_datosFormateados\", así:\n"
            ]
        },
        {
            "cell_type": "code",
            "execution_count": null,
            "metadata": {},
            "outputs": [],
            "source": [
                "datosFormateados = ds_datosFormateados ()\n",
                "\n"
            ]
        },
        {
            "cell_type": "markdown",
            "metadata": {},
            "source": [
                "## Estructura inicial del conjunto de datos\n",
                "\n",
                "Antes de iniciar cualquier análisis es importante que conozcamos la estructura de los datos con los que vamos a trabajar, específicamente lo que se refiere a los tipos de datos de cada variable, ya sea categóricos (o cualitativos), númericos (o cuantitativos), fechas, u otro tipo de datos.\n",
                "\n",
                "El paquete de funciones \"desistimiento\" ofrece la funcion \"ds_mostrar_estructura\" que muestra la estructura actual y a la vez la guarda en un archivo llamado \"estructura_datos.csv\". De esta manera, se puede revisar si la estructura de los datos que está leyendo el ambiente R es la estructura que los datos deben tener, y si no es así entonces se deben hacer los cambios respectivos antes de iniciar otros análisis. La función se utiliza así:\n"
            ]
        },
        {
            "cell_type": "code",
            "execution_count": null,
            "metadata": {},
            "outputs": [],
            "source": [
                "ds_mostrar_estructura (\"datos_formateados.csv\")\n",
                "\n"
            ]
        },
        {
            "cell_type": "markdown",
            "metadata": {},
            "source": [
                "La tabla muestra por cada variable la siguiente información:\n",
                "\n",
                "-   Tipo de la variable (ej. CUALITATIVA, CUANTITATIVA, o FECHA).\n",
                "\n",
                "-   Nombre de la variable (ej. TipoDesmovilización)\n",
                "\n",
                "-   Valores de la variable, que pueden ser de tres tipos:\n",
                "\n",
                "    -   CUALITATIVO: Muestra los valores categóricos que puede tomar la variable y los cuales están enumerados desde 1 hasta el N-esimo valor (ej. [1] Colectiva [2] Individual).\n",
                "\n",
                "    -   CUANTITATIVO: Muestra el rango de valores de la variable con su valor mínimo y su valor máximo.\n",
                "\n",
                "    -   FECHA: En este caso las fechas deben tener el formato \"dd-mm-yyyy\". Si las variables no tienen ese formato, entonces el ambiente R tomará erroneamente esas fechas como valores cuantitativos (ej. 2000, 2002, 2003,..).\n",
                "\n",
                "## Selección y modificación de la variable objetivo\n",
                "\n",
                "La variable objetivo o variable dependiente de nuestro problema es la variable que se quiere predecir tomando como información el resto de variables o variables independientes. Como se mostró anteriormente, matemáticamente se puede ver como una ecuación de la forma:\n",
                "\n",
                "Y = aX1 + bX2 + ...zX35\n",
                "\n",
                "donde Y es la variable dependiente, X1, X2,..., X35 son las variables independientes, y las letras a...z son los parámetros del modelo predictivo que se vaya a utilizar para la predicción. Estos parámetros son los que el modelo predictivo buscará determinar o por lo menos llegar a un valor muy cercano al real.\n",
                "\n",
                "Para nuestro problema la variable objetivo es la que se llama \"SituacionFinal\" y que es una variable CUALITATIVA que indica la situación actual del desmovilizado dentro del proceso. Esta variable puede tener los siguientes valores:\n",
                "\n",
                "-   \"Ausente del proceso\"\n",
                "\n",
                "-   \"Culminado\"\n",
                "\n",
                "-   \"En Proceso\"\n",
                "\n",
                "-   \"Fuera del Proceso\", y\n",
                "\n",
                "-   \"No ha ingresado\"\n",
                "\n",
                "El objetivo del modelo predictivo que vamos a construir es predecir si un desmovilizado tendrá éxito o fracaso dentro de un proceso de desmovilización dado las características propias del desmovilizado, tales como la edad, número de hijos, nivel de eduación, trabajo actual, entre otras.\n",
                "\n",
                "Por lo tanto, la variable objetivo debe ser binaria, es decir tener solo dos estados: EXITO y FRACASO. Para nuestro caso vamos a tomar solo dos de los cinco valores que puede tener la variable: \"Culminado\" que corresponderá a EXITO en el proceso, y \"Fuera del Proceso\", que corresponderá a FRACASO en el proceso. Además, se deben eliminar los desmovilizados que tienen otros estados distintos a los dos anteriores, y así mismo vamos a renombrar los nombres de esos estados de \"Culminado\" a \"EXITO\", y de \"Fuera del Proceso\" a \"FRACASO\".\n",
                "\n",
                "Para realizar lo anterior, hemos creado una función dentro del paquete de \"desistimiento\" que realiza este proceso y que se llama \"ds_procesar_varobjetivo\", la cual se llama así:\n"
            ]
        },
        {
            "cell_type": "code",
            "execution_count": null,
            "metadata": {},
            "outputs": [],
            "source": [
                "datosProcesados = ds_procesar_varobjetivo (\"datos_formateados.csv\")\n",
                "ver (datosProcesados,n=20)\n"
            ]
        },
        {
            "cell_type": "markdown",
            "metadata": {},
            "source": [
                "El proceso anterior reducirá los datos de 55675 a 45883 desmovilizados y además coloca la variable objetivo \"SituacionFinal\" al inicio de la tabla tener una mejor lectura de los datos.\n",
                "\n",
                "# Limpieza de los Datos\n",
                "\n",
                "## Limpieza de valores nulos (NAs)\n",
                "\n",
                "Puede que algunos valores de las variables sean nulos o no existan. Esto es muy común en la toma de datos ya que puede suceder que se digitó mal los datos, o no existe información para ese estado de la variable, o al encuestar al desmovilizado este no respondió a una determinada pregunta, todo lo anterior da como resultado valores nulos o inexistente dentro de las variables que se deben manejar.\n",
                "\n",
                "Una forma de manejar los valores nulos es eliminar las observaciones que los tienen, siempre y cuando exista un gran número de observaciones. Para nuestro caso, en los últimos datos que se grabaron en el archivo \"datos_MODIFICADOS.csv\" quedaron exactamente 45883 observaciones, que es un gran número y por lo tanto vamos a remover las observaciones que tengan algún valor nulo.\n",
                "\n",
                "Para realizar la limpieza anterior hemos creado dentro del paquete \"desistimiento\" una función que muestra el número de valores nulos por cada variable y realiza la selección de las observaciones que no contengan ningun valor nulo. Los nuevos datos se escriben en un archivo llamado \"datos_NoNulos.csv\". La función se llama así:\n"
            ]
        },
        {
            "cell_type": "code",
            "execution_count": null,
            "metadata": {},
            "outputs": [],
            "source": [
                "resultados = ds_procesar_nulos (\"datos_Procesados.csv\")\n",
                "ver (resultados, n=35)\n"
            ]
        },
        {
            "cell_type": "markdown",
            "metadata": {},
            "source": [
                "De acuerdo a los resultados anteriores, se observa por cada variable el número de valores nulos antes y despúes de eliminar las observaciones que tienen algún valor nulo, columnas \"NroNulosAntes\" y \"NroNulosDespues\", respectivamente. Al final, vamos a quedarnos con un total de 25928 observaciones completamente limpias de valores nulos.\n",
                "\n",
                "## Análisis Exploratorio de Datos\n",
                "\n",
                "El análisis exploratorio de datos se refiere al proceso de realizar un análisis inicial con la ayuda de estadísticas resumidas y representaciones gráficas de los datos para descubrir similaridades, tendencias, anomalías, o verificar suposiciones. Este análisis permitirá al final conocer que variables pueden descartarse ya sea porque no aportan información al modelo, o porque repiten información de otras variables, o porque puede volver complejo el análisis.\n",
                "\n",
                "### Análisis de las Variables Cuntitativas o Númericas\n",
                "\n",
                "Para las variables numéricas vamos a calcular sus correlaciones entre pares para determinar que variables tienen altas correlaciones y por lo tanto están aportando información muy similar.\n",
                "\n",
                "Para esto, hemos creado dentro del paquete \"desistimiento\" la función llamada \"ds_analisis_cuantitativas\" que muestra las correlaciones entre las variables que sean numéricas y si existe un par de variables con una correlación alta de más del 80% se elimina una de ellas.\n"
            ]
        },
        {
            "cell_type": "code",
            "execution_count": null,
            "metadata": {},
            "outputs": [],
            "source": [
                "matrixCorrelaciones = ds_analizar_cuantitativas (\"datos_NoNulos.csv\")\n",
                "ver (matrixCorrelaciones)\n"
            ]
        },
        {
            "cell_type": "markdown",
            "metadata": {},
            "source": [
                "De los resultados anteriores, la matrix de correlaciones muestra que las variables \"NroHijos\" y \"NroGrupoFamiliar\" están muy correlacionadas (91%) y por lo tanto se eliminó una de ellas: \"NroGrupoFamiliar\".\n",
                "\n",
                "### Análisis de Variables Categóricas\n",
                "\n",
                "Para analizar lar variables categóricas, vamos a construir gráficos o histogrmas que nos ayuden a ver de forma visual como se están distribuyendo los distintos valores de cada variable.\n",
                "\n",
                "Para esto hemos creado la función \"ds_distribuciones\" que crea en un archivo llamado \"graficos_distribuciones.png\" las distribuciones de cada variable del conjunto de datos de entradas, la función se llama así:\n"
            ]
        },
        {
            "cell_type": "code",
            "execution_count": null,
            "metadata": {},
            "outputs": [],
            "source": [
                "ds_distribuciones (\"datos_NoNulos.csv\");\n",
                "knitr::include_graphics(\"graficos_distribuciones.png\")\n"
            ]
        },
        {
            "cell_type": "markdown",
            "metadata": {},
            "source": [
                "Observando los gráficos anteriores, nos interesa determinar las variables que pueden causar \"ruido\" al análisis, ya sea por alguna de las siguientes razones:\n",
                "\n",
                "-   **Distribuciones similares entre variables:** representan variables con la misma información al de otras variables y por lo tanto es suficiente con preservar una sola de ellas.\n",
                "\n",
                "-   **Distribuciones con un valor dominante:** son variables que presentan un único valor o si presentan más de un valor, la proporción de estos es muy baja frente a un valor dominante, por lo tanto brindan muy poca información y se deben eliminar del análisis.\n",
                "\n",
                "-   **Distribuciones complejas:** son variables que tienen un gran cantidad de categorias y vuelven el análisis muy lento o imposible para los algoritmos o modelos predictivos que se vayan a utilizar, por tanto se las debe eliminar del análisis.\n",
                "\n",
                "Teniendo en cuenta las razones anteriores junto con los gráficos de las distribuciones las variables, podemos observar lo siguiente:\n",
                "\n",
                "-   Las primeras dos gráficas de \"AñoDesmovilizacion\" y \"AñoIndependización\" presentan distribuiciones muy similares y por lo tanto es suficiente una sola de ellas así que eliminamos la variable \"AñoIndependización\".\n",
                "\n",
                "-   Existen varias variables con distribuciones con un valor dominante, entre ellas \"BeneficioFA\", \"BeneficioFPT\", \"BeneficioPDT\", y \"BeneficioTRV\", \"ClasificacionComponente\", e \"Ingreso\". Por lo tanto estas variables no brindan gran información y se eliminan del análisis.\n",
                "\n",
                "-   La variable \"MunicipioResidencia\" presenta muchas categorías, dadas por cada ciudad. Además parte de la información que tiene esta variable esta implicitamente en la variable \"DeptoResidencia\". Así que se elimina \"MunicipioResidencia\" y dejar solo \"DeptoResidencia\".\n",
                "\n",
                "-   El resto de las variables se les observa una distribución con por lo menos dos estados diferenciados y se dejan para el análisis.\n",
                "\n",
                "De acuerdo a los dos análisis anteriores, tanto de las variables cuantitativas como de las cualitativas, se deben eliminar las variables que puedan causar problemas en los análisis siguientes. Para esto hemos implementado la funcion \"ds_eliminar_variables\" que elimina de un conjunto de variables de un conjunto de datos. La función se llama así:\n"
            ]
        },
        {
            "cell_type": "code",
            "execution_count": null,
            "metadata": {},
            "outputs": [],
            "source": [
                "variables = c(\"NroGrupoFamiliar\", \"AñoIndependizacion\", \"BeneficioFA\",   \"BeneficioFPT\", \"BeneficioPDT\", \"BeneficioTRV\",\"ClasificaciónComponente\", \"Ingreso\", \"MunicipioResidencia\")\n",
                "resultados = ds_eliminar_variables (\"datos_NoNulos.csv\", variables)\n",
                "ver (resultados, n=35)\n"
            ]
        },
        {
            "cell_type": "markdown",
            "metadata": {},
            "source": [
                "Como se puede observar en la tabla anterior, se ha pasado de 35 a 26 variables . Estas ultimas variables son las que se tomarán de aquí en adelante para realizar los análisis siguientes.\n",
                "\n",
                "## Limpieza de categorías con pocas observaciones\n",
                "\n",
                "En este análisis buscamos las categorías por cada variable que tengan muy pocas observaciones en relación al total del conjunto de datos, las cuales al momento de construir el modelo predictivo van a presentar problemas para el modelo.\n",
                "\n",
                "Es decir, si una categoría, por ejemplo \"Vaupés\", que pertenece a la categoría \"DptoResidencia\" tiene solo 10 observaciones frente a las más de 25000 que existen, entonces esas 10 observaciones que pertenecen a 10 desmovilizados se eliminan del conjunto de datos.\n",
                "\n",
                "Para hacer este proceso para todas las variables, vamos a definir una proporción de observaciones mínima del 0.05% de todas las observaciones, es decir, de 25928 observaciones que existen, por lo menos deben existir 130 individuos en cada categoría. Si no es así, los individuos de esa categoría que no cumple el mínimo se eliminan.\n",
                "\n",
                "Para esto hemos construido la función \"ds_limpiar_observaciones\" que toma como entrada un archivo con los datos, elimina las observaciones de las categoría con pocos datos, y guarda los resultados en un nuevo archivo \"datos_Limpios.csv\". La función se llama así:\n"
            ]
        },
        {
            "cell_type": "code",
            "execution_count": null,
            "metadata": {},
            "outputs": [],
            "source": [
                "ds_limpiar_observaciones (\"datos_Filtrados.csv\")\n",
                "\n"
            ]
        },
        {
            "cell_type": "markdown",
            "metadata": {},
            "source": [
                "## Manejo de desbalance en la variable objetivo\n",
                "\n",
                "El desbalance en una variable binaria, como lo es la variable objetivo de nuestro análisis con dos estados: \"EXITO\" y \"FRACASO\", ocurre cuando existe una desproporción muy amplia en las categorías de la variable. Así el número de observaciones de una categoría es mucho mayor que el de la otra.\n",
                "\n",
                "Si existe este desbalance el entrenamiento de un modelo de predicción se puede sesgar hacia la categoría que es mayoría, es decir, predecir casi siempre una observación nueva con la categoría mayoritaría.\n",
                "\n",
                "Un método simple para realizar la correción de una variable binaria desbalanceada es el \"submuestreo\", que consiste en eliminar datos de la categoría mayoritaria de forma aleatoria hasta que ambas categorías tengan la misma proporcion: 50:50.\n",
                "\n",
                "Dentro de nuestro paquete de funciones, hemos implementado la función \"balancear_varobjetivo\" que toma un archivo con los datos, realiza el balanceo y los guarda en un nuevo archivo llamado \"datos_Balanceados.csv\", para finalmente crear y muestrar un resumen\\\n",
                "gráfico. La función se llama así:\n"
            ]
        },
        {
            "cell_type": "code",
            "execution_count": null,
            "metadata": {},
            "outputs": [],
            "source": [
                "ds_balancear_varobjetivo (\"datos_Limpios.csv\")\n",
                "knitr::include_graphics(\"histogramas_balanceo.png\")\n"
            ]
        },
        {
            "cell_type": "markdown",
            "metadata": {},
            "source": [
                "Como se puede observar de los dos histogramas anteriores, al inicio se tiene la información de la variable objetivo \"SituacionFinal\" de 19778 (75%) desmovilizados en la categoría EXITO y tan solo 4950 en la categoría FRACASO. 4950 (25%). Después de realizar el balanceo se tiene 5148 desmovilizados en cada categoría, es decir 50% en EXITO y 50% en FRACASO.\n",
                "\n",
                "# Modelamiento\n",
                "\n",
                "Para realizar el modelo predictivo hemos seleccionado un modelo de regresión lógica ya que es un modelo simple, con una base matemática sólida, que produce buenos resultados, y que ha sido usado en muchos otros estudios cuantitativos de desistimiento [Pinilla2019].\n",
                "\n",
                "Antes de mostrar el modelamiento vamos a introducir brevemente los conceptos de aprendizaje automático y regresión lógica.\n",
                "\n",
                "## Modelos de Aprendizaje Automático\n",
                "\n",
                "Un modelo de aprendizaje automático trabaja sobre un conjunto de datos para aprender de ellos su estructura y determinar las reglas implicitas o patrones ocultos que rigen o tienen esos datos.\n",
                "\n",
                "Los datos están compuestos de varias variables de interés de las cuales conocemos sus valores, sin embargo, en algún momento vamos a tener nuevos datos de los cuales desconocemos el valor de una variable y es en ese momento que las reglas encontradas en los datos conocidos servirán para predecir el valor de la variable desconocida en los nuevos datos, y a esto es lo que se llama un modelo predictivo.\n",
                "\n",
                "Ahora, para que este modelo aprenda de los datos de forma automática se necesita realizar un proceso de entrenamiento-evaluación que finalmente dará como resultado un modelo entrenado y listo para usarse para predecir una o más variables de interés.\n",
                "\n",
                "El entrenamiento implica un conjunto de datos de los cuales conocemos todos los valores de sus variables. De aquí se extraen las reglas o parámetros del modelo, lo que se conoce como ajuste o entrenamiento del modelo. Una vez se tiene entrenado el modelo se lo prueba con otro conjunto de datos del cual se conoce también todas sus variables, excepto que ahora se le esconde al modelo los valores de una variable determina o variable objetivo para que el modelo prediga su valor. Finalmente, se mide que tan exacta fue la predicción, ya que conocemos el valor real y si la exactitud es buena entonces se pude llevar el modelo a producción, es decir utilizarlo para realizar predicciones de una manera confiable.\n",
                "\n",
                "## Regresión Lógica\n",
                "\n",
                "La regresión logística es una técnica utilizada cuando la variable dependiente es categórica (o nominal). Un caso especial de este tipo de técnica es la regresión logística binaria, en la cual se busca predecir el valor de una variable independiente categórica binaria (solo dos categorías), la cual se va conocer como variable objetivo. con base en uno o más variables independientes, que se van a conocer como variables predictoras.\n",
                "\n",
                "En nuestro caso, la variable objetivo será \"SituacionFinal\", con dos posibles valores: \"EXITO\" y \"FRACASO\" que representa si el desmovilizado culminó el proceso o de lo contrario está ya fuera de el. Así mismo, las variables predictoras son el conjunto de las variables que describe a cada desmovilizado, que en nuestro caso quedaron 34 variables después de un proceso de limpieza y análisis realizado en las fases anteriores.\n",
                "\n",
                "A continuación vamos a presentar el proceso de crear un modelo de regresión logística, crear los conjuntos de datos para ajustar este modelo, y probar la calidad del modelo. Además, vamos a mostrar como mejorar este modelo para reducir el número de variables predictoras a las más importantes, y vamos a evaluar el modelo usando distintas métricas, al final mostraremos como el modelo trabaja para predecir el posible EXITO o FRACASO de un conjunto de datos de desmovilizado que ingresan al proceso.\n",
                "\n",
                "## Transformación de variables\n",
                "\n",
                "Antes de crear el modelo se debe \"binarizar\" la variable objetivo a los valores de 0 y 1, donde 0 corresponde a \"FRACASO\" y 1 a \"EXITO\". Para esto implementamos la función \"ds_binarizar\" que toma el archivo con los datos, convierte la variable objetivo a 0 y 1, y guarda los resultados en otro archivo llamado \"datos_Binarizados.csv\". La función se llama así:\n"
            ]
        },
        {
            "cell_type": "code",
            "execution_count": null,
            "metadata": {},
            "outputs": [],
            "source": [
                "ds_binarizar (\"datos_Balanceados.csv\")\n",
                "\n"
            ]
        },
        {
            "cell_type": "markdown",
            "metadata": {},
            "source": [
                "## Particionamiento de los Datos\n",
                "\n",
                "En un modelado predictivo automático, se parte de un conjunto de datos del cual conocemos el valor de sus variables. Además, conocemos también cual es la variable que nos interesa después predecir su valor, la cual la llamamos como la variable objetivo.\n",
                "\n",
                "Entonces, partiendo de este conjunto de datos conocido, estos datos deben dividirse en dos subconjuntos: uno para entrenar el modelo, es decir ajustar sus parámetros, y otro para probarlo. Generalmente se toma el 70% de los datos para entrenamiento y el 30% restante se toma para probar el modelo.\n",
                "\n",
                "Para obtener estos dos subconjuntos hemos implementado una función, dentro de nuestro paquete de desistimiento, la cual dado un archivo con el conjunto de datos, lo divide en 70% y 30% de muestras tomadas aleatoriamente para los subconjuntos de entrenamiento y pruebas, respectivamente. Los nuevos archivos se guardarán con los nombres de \"datos_Entrenamiento.csv\" y \"datos_Pruebas.csv\". La función se llama así:\n"
            ]
        },
        {
            "cell_type": "code",
            "execution_count": null,
            "metadata": {},
            "outputs": [],
            "source": [
                "ds_dividir_datos (\"datos_Binarizados.csv\")\n",
                "\n"
            ]
        },
        {
            "cell_type": "markdown",
            "metadata": {},
            "source": [
                "## Modelo 1: Modelo Básico para Desistimiento\n",
                "\n",
                "El modelo de Regresión Logística es muy usado para problemas donde la variable objetivo a predecir es binaria (ej. Si/No, pertenece/noPertenece, etc.), como sucede en nuestro caso, donde la variable \"SituacionFinal\" está determinada por dos valores: EXITO o FRACASO, para determinar si culminó el proceso de demovilización o esta fuera del mismo.\n",
                "\n",
                "### Definición del modelo\n",
                "\n",
                "Vamos a definir la formula del modelo, es decir cual es la variable objetivo y cuales son las variables predictoras. En las formulas que recibe R en los modelos de predicción, la variable objetivo va a la izquierda, sigue un guión, y a la derecha van las variables predictoras, como en las ecuaciones matemáticas:\n",
                "\n",
                "y \\~ x0 + Ax1 + Bx2 + Cx2...\n",
                "\n",
                "Siendo **y** la variable objetivo; **x0, x1, x2,...,** las variables predictoras; y **A, B, C, ...** los parámetros del modelo.\n",
                "\n",
                "Las variables de nuestro modelo las podemos ver llamanda a la función \"ds_resumen_modelo\", de la siguiente forma:\n"
            ]
        },
        {
            "cell_type": "code",
            "execution_count": null,
            "metadata": {},
            "outputs": [],
            "source": [
                "ds_resumen_modelo (\"datos_Binarizados.csv\")\n",
                "\n"
            ]
        },
        {
            "cell_type": "markdown",
            "metadata": {},
            "source": [
                "### Entrenamiento del modelo\n",
                "\n",
                "Para entrenar el modelo utilizamos los datos de entrenamiento obtenidos anteriormente y guardados en el archivo \"datos_Entrenamiento.csv\". Para esto utilizamos la función \"ds_entrenar_modelo\" que recibe el archivo de datos de entrenamiento y retorna una variable que representa el modelo entrenado. Así:\n"
            ]
        },
        {
            "cell_type": "code",
            "execution_count": null,
            "metadata": {},
            "outputs": [],
            "source": [
                "modelo_entrenado = ds_entrenar_modelo (\"datos_Entrenamiento.csv\")\n",
                "\n"
            ]
        },
        {
            "cell_type": "markdown",
            "metadata": {},
            "source": [
                "### Prueba del modelo\n",
                "\n",
                "Ya entrenado el modelo, se lo utiliza ahora para probar su precisión con los datos de prueba que se obtuvieron al particionar los datos totales.\n",
                "\n",
                "La función que hemos creado para esto se llama \"ds_probar_modelo\" y toma como entrada el modelo entrenado anteriormente junto con un archivo con datos de prueba. La función se llama así:\n"
            ]
        },
        {
            "cell_type": "code",
            "execution_count": null,
            "metadata": {},
            "outputs": [],
            "source": [
                "ds_probar_modelo (modelo_entrenado, \"datos_Pruebas.csv\")\n",
                "\n"
            ]
        },
        {
            "cell_type": "markdown",
            "metadata": {},
            "source": [
                "El valor de precisión anterior corresponde a un 96% de precisión, lo que es bastante alto. Se espera que la precisión sea mayor al 70% y este modelo lo sobrepasa.\n",
                "\n",
                "Ahora, el modelo tiene muchas variables: 26, vamos a buscar mejorar el modelo para subir la precisión o disminuir el número de variables predictoras, es decir, vamos a seleccionar las mejores características que permitan predecir desistimiento.\n",
                "\n",
                "## Modelo 2: Modelo Optimizado de Desistimientos\n",
                "\n",
                "### Selección de Variables\n",
                "\n",
                "Dentro del modelo que se ajustó anteriormente, algunas variables van a tener una mayor influencia sobre la predicción que otras, igualmente algunas variables van a tener poca o ninguna influencia sobre la predicción. Estas últimas variables en vez de mejorar la predicción del modelo lo vuelven más complejo, ya sea en la interpretación del modelo, o ya sea que afecten su precisión, además de consumir tiempo de cómputo en su procesamiento.\n",
                "\n",
                "### Regresión logística por pasos hacia adelante\n",
                "\n",
                "Para mejorar el modelo vamos a seleccionar las mejores variables predictoras usando un método que se conoce como \"regresión por pasos\" (stepwise regression), y específicamente una regresión por pasos \"hacia adelante\" (forward), donde el objetivo es ir construyendo un modelo adicionando de una en una las variables predictoras.\n",
                "\n",
                "El proceso comienza con un modelo que no contiene variables o modelo nulo al cual se le van agregando de una en una las variables más significativas. Cada que se adiciona una nueva variable se verifica si el modelo mejora o no, si mejora la variable adicionada será parte del nuevo modelo, sino mejora se descarta esta variable y se adiciona la siguiente variable más significante, , y así sucesivamente hasta encontrar un conjunto de variables predictoras que sean estadísticamente significativas para la predicción de la variable objetivo.\n",
                "\n",
                "Para realizar todo este proceso de optimización y selección de variables, hemos implementado la función \"ds_seleccionar_variables\" que recibe como entrada dos archivos de datos, el de entrenamiento y el de pruebas, se modifican estos archivos con las variables seleccionadas, y se guardan los nuevos datos en los archivos \"datos_Entrenamiento_Seleccionado.csv\" y \"datos_Pruebas_seleccionados.csv\". La función retorna una tabla resumen con las variables más importantes ordenadas de mayor a menor significancia. La función se llama así:\n"
            ]
        },
        {
            "cell_type": "code",
            "execution_count": null,
            "metadata": {},
            "outputs": [],
            "source": [
                "resumen = ds_seleccionar_variables (\"datos_Entrenamiento.csv\", \"datos_Pruebas.csv\")\n",
                "ver (resumen,n=0)\n"
            ]
        },
        {
            "cell_type": "markdown",
            "metadata": {},
            "source": [
                "Podemos observar de los resultados anteriores que la optimización del modelo nos muestra que solo son necesarias las primeras 8 variables más significativas para obtener un resultado igual o mejor que el que se obtuvo con las 26 variables del modelo inicial.\n",
                "\n",
                "Esto se muestra a través de dos métricas muy relacionadas: la desviación (Deviance) y la métrica AIC (criterio de información de Akaike). Ambas métricas miden la bondad de ajuste de un modelo a los datos, es decir, cuánto se desvía un modelo de regresión logística de un modelo que se ajusta perfectamente a los datos. Cuanto menor sea el número, mejor se ajusta el modelo.\n",
                "\n",
                "La diferencia entre las dos métricas es que el modelo de mejor ajuste según AIC es el que explica la mayor cantidad de variación utilizando la menor cantidad posible de variables independientes. Así, si dos modelos explican la misma cantidad de variación, el que tenga menos parámetros tendrá un puntaje AIC más bajo.\n",
                "\n",
                "A continuación, con estas 8 variables se construye un modelo predictivo optimizado y lo probamos para ver su precisión:\n",
                "\n",
                "### Entrenamiento del modelo optimizado\n",
                "\n",
                "Para entrenar el modelo utilizamos los datos de entrenamiento con las variables seleccionadas obtenidos anteriormente y guardados en el archivo \"datos_Entrenamiento_Seleccionado.csv\". Utilizamos nuevamente la función \"ds_entrenar_modelo\" así:\n"
            ]
        },
        {
            "cell_type": "code",
            "execution_count": null,
            "metadata": {},
            "outputs": [],
            "source": [
                "modelo_optimizado = ds_entrenar_modelo (\"datos_Entrenamiento_Seleccionado.csv\")\n",
                "ds_guardar_modelo (modelo_optimizado)\n"
            ]
        },
        {
            "cell_type": "markdown",
            "metadata": {},
            "source": [
                "### Prueba del modelo optimizado\n",
                "\n",
                "Ya entrenado el modelo, lo utilizamos ahora para evaluar su presición con los datos de prueba con las variables seleccionadas obtenidos en la optimización. Utilizamos nuevamente la función \"ds_evaluar_modelo\" así:\n"
            ]
        },
        {
            "cell_type": "code",
            "execution_count": null,
            "metadata": {},
            "outputs": [],
            "source": [
                "ds_probar_modelo (modelo_optimizado, \"datos_Pruebas_Seleccionado.csv\")\n",
                "\n"
            ]
        },
        {
            "cell_type": "markdown",
            "metadata": {},
            "source": [
                "Con este modelo optimizado hemos mejorado la precisión de 96% a 97%, pero ahora con solo 8 variables en vez de las 26 variables iniciales. Igual que antes, este valor de precisión anterior es bastante alto.\n",
                "\n",
                "## Evaluación del modelo\n",
                "\n",
                "Para evaluar realmente la bondad de un modelo se deben utilizar varias métricas, no solo una, como lo hemos hecho hasta ahora. Por tanto, en esta sección vamos a utilizar un conjunto de métricas muy usadas en modelos predictivos que van a mostrar la bondad del modelo desde diferentes perspectivas.\n",
                "\n",
                "### Definición de las méticas\n",
                "\n",
                "#### **Matriz de confusión**\n",
                "\n",
                "Antes de iniciar con las métricas vamos a describir una herramienta llamada matriz de confusión a partir de la cual vamos a calcular dos métricas: exactitua y especificidas. Esta matríz se construye sobre un conjunto de datos de prueba donde se conoce el valor predicho por el modelo y el valor real de una variable objetivo.\n",
                "\n",
                "Para nuestro caso, se tiene un conjunto de datos de prueba de los cuales conocemos tanto los valores positivos como negativos de la variable objetivo \"SituacionFinal\". Los positivos son los desmovilizados que culminaron el proceso y que tienen el valor de EXITO. Mientras que los negativos son los desmovilizados que terminaron fuera del proceso y que tiene el valor de FRACASO. De estos datos, conocemos lo que el modelo predijo (EXITO o FRACASO) pero también conocemos lo que realmente sucedió, es decir, si el desmovilizad culminó o está fuera del proceso.\n",
                "\n",
                "La matriz se puede representar gráficamente de la siguiente manera:\n",
                "\n",
                "![](images/img-matriz-confusion.png)\n",
                "\n",
                "Donde las filas represtan los valores predichos por el modelo (0 o negativo para FRACASO, 1 o positivo para EXITO) y las columnas los valores reales de los datos. Lo que da como resultado cuatro posibles opciones de valores predichos frente a valores realesque tienen el siguiente significado:\n",
                "\n",
                "-   **Verdadero positivo:** El valor real es positivo y la prueba predijo tambien que era positivo. O bien un desmovilizado CULMINÓ el proceso y la prueba así lo predijo.\n",
                "\n",
                "-   **Verdadero negativo:** El valor real es negativo y la prueba predijo tambien que el resultado era negativo. O bien un desmovilizado salió del proceso (FUERA) y la prueba así lo predijo.\n",
                "\n",
                "-   **Falso negativo:** El valor real es positivo, y la prueba predijo que el resultado es negativo. El desmovilizado CULMINÓ el proceso, pero la prueba dice de manera incorrecta que esta FUERA. Esto es lo que en estadística se conoce como **error tipo II.**\n",
                "\n",
                "-   **Falso positivo:** El valor real es negativo, y la prueba predijo que el resultado es positivo. El desmovilizado está FUERA del proceso, pero la prueba dice de manera erronea que si lo CULMINÓ. Esto es lo que en estadística se conoce como **error tipo I**\n",
                "\n",
                "#### Métrica de Exactitud (Accuracy)\n",
                "\n",
                "Responde a la pregunta ¿con qué frecuencia es correcto el predictor? y se calcula de la siguiente manera:\n",
                "\n",
                "Exactitud = (TP+TN)/(TP+TN+FP+FN)\n",
                "\n",
                "#### **Métricas de Especificidad (Specificity)**\n",
                "\n",
                "Responde a la pregunta: Cuando es no, ¿con qué frecuencia predice el no? y se calcula de la siguiente manera\n",
                "\n",
                "Especificidad = TN/(TN+FP)\n",
                "\n",
                "#### **Métrica ROC: Curva de características operativas del receptor**\n",
                "\n",
                "El área bajo la curva ROC es un método muy útil para evaluar un modelo que permite visualizar el equilibrio entre la tasa de verdaderos positivos y la tasa falsos positivos. Esta se calcula trazando la tasa positiva verdadera (sensibilidad) frente a la tasa de falsos positivos (1 - especificidad).\n",
                "\n",
                "Los curvas ROC que son buenas son las que mantiene una tasa baja de Falsos Positivos (observaciones mál predichas) mientras tienen una tasa alta de Verdaderos Positivos (observaciones bien predichas), es decir curvas que se orienten hacia la esquina superior izquierda. Las siguientes son algunos ejemplos de curvas ROC:\n",
                "\n",
                "![](images/img-curvas-ROC.png){width=\"307\"}\n",
                "\n",
                "### Evaluación de las métricas\n",
                "\n",
                "A continuación evaluamos las métricas anteriores en el modelo predictivo optimizado con los datos de prueba obtenidos después de la selección de variables. Para esto, hemos creado la función \"ds_evaluar_modelo\" que recibe como entrada el modelo optimizado calculado anteriormente junto con el archivo de datos de pruebas, así:\n"
            ]
        },
        {
            "cell_type": "code",
            "execution_count": null,
            "metadata": {},
            "outputs": [],
            "source": [
                "ds_evaluar_modelo (modelo_optimizado, \"datos_Pruebas_Seleccionado.csv\")\n",
                "\n"
            ]
        },
        {
            "cell_type": "markdown",
            "metadata": {},
            "source": [
                "De los resultados anteriores, se puede observar los valores altos de 96.9%, 94.5% y 99.2%, para exactitud, sensibilidad y especificidad, respectivamente. Lo que nos permite concluir que es un buen modelo predictivo. Además, los resultados de la curva ROC están de acuerdo con los resultados de las otras métricas al mostrar una curva con una tase de Falsos Positivos muy baja frente a una tass de Verdaderos Positivos bastante alta.\n",
                "\n",
                "## Despliegue del Modelo\n",
                "\n",
                "La etapa final de todo este análisis es la puesta en producción o despliegue del modelo, es decir, que el modelo entrenado y optimizado se pueda usar con nuevos datos de desmovilizados que ingresan al proceso. Al usar el modelo lo que se busca es lograr predecir, con una confianza alta, si estos nuevos desmovilizados podrían culminar el proceso, lo que corresponde a EXITO, o de lo contrario podrían abandonarlo en algún momento, lo que corresponde a FRACASO.\n",
                "\n",
                "Parte de ese despliegue lo constituye el paquete de funciones en lenguaje R que hemos implementado para llevar todo este análisis predictivo, como lo hemos mostrado en las secciones anteriores. Sin embargo, si alguien quiere usar el modelo optimizado que se ajustó en la etapa de entrenamiento, entonces puede usar una función que hemos implementado para cargar ese modelo y usarlo, sin necesidad de repetir todos los procesos descritos anteriormente. La función se llama \"ds_cargar_modelo\", que carga el modelo optimizado que se entrenó con las 8 variables y con los 4950 datos de desmovilizados. La función se llama así:\n"
            ]
        },
        {
            "cell_type": "code",
            "execution_count": null,
            "metadata": {},
            "outputs": [],
            "source": [
                "modelo = ds_cargar_modelo ()\n",
                "\n"
            ]
        },
        {
            "cell_type": "markdown",
            "metadata": {},
            "source": [
                "Una vez se ha cargado el modelo, ya se lo puede utilizar para predecir las \"SituacionFinal\" de nuevos desmovilizados siempre y cuando se tenga la siguiente información de cada uno de ellos:\n",
                "\n",
                "-   DesembolsoBIE\n",
                "\n",
                "-   PoseeServicioSocial\n",
                "\n",
                "-   OcupacionEconomica\n",
                "\n",
                "-   EstadoISUN\n",
                "\n",
                "-   NivelEducativo\n",
                "\n",
                "-   ExGrupo\n",
                "\n",
                "-   ServiciosPublicos\n",
                "\n",
                "-   TipoVivienda\n",
                "\n",
                "A continuación se muestra el proceso completo para predecir la \"SituacionFinal\" de un grupo de desmovilizados que han ingresado al proceso de desmovilización.\n",
                "\n",
                "### Evaluación con datos nuevos\n",
                "\n",
                "La siguiente prueba muestra de forma completa la predicción con un conjunto de datos de 10 desmovilizados. El conjunto de datos tiene la información de las 8 características o variables que se seleccionaron en el proceso de optimización, el archivo con estos datos debe estar en formato excel (.xlsx).\n",
                "\n",
                "Solo para mostrar la funcionalidad al momento de evaluar nuevos datos con el modelo optimizado, hemos creado un archivo que lo puede usar, si todavía no tiene un conjunto propio. Para crear este conjunto de datos debe llamar a la función \"ds_datos_evaluacion\" que crea el archivo \"datos_Evaluacion.xlsx\". La función se llama así:\n"
            ]
        },
        {
            "cell_type": "code",
            "execution_count": null,
            "metadata": {},
            "outputs": [],
            "source": [
                "ds_datos_evaluacion()\n",
                "\n"
            ]
        },
        {
            "cell_type": "markdown",
            "metadata": {},
            "source": [
                "![](images/img-datos_evaluacion.png)\n",
                "\n",
                "La función que hemos implementado para realizar la evaluación se llama \"ds_predecir\" que recibe como entrada solo el archivo con los nuevos datos, en este ejemplo, con los datos de los 10 desmovilizados anteriores. La función se llama así:\n"
            ]
        },
        {
            "cell_type": "code",
            "execution_count": null,
            "metadata": {},
            "outputs": [],
            "source": [
                "ds_predecir (\"datos_Evaluacion.xlsx\")\n",
                "\n"
            ]
        },
        {
            "cell_type": "markdown",
            "metadata": {},
            "source": [
                "El resultado de la función es un nuevo archivo llamado \"datos_Predichos.xlsx\", en formato excel con las predicciones al inicio, así:\n",
                "\n",
                "![](images/img-datos_prediccion.png)\n"
            ]
        }
    ],
    "metadata": {
        "anaconda-cloud": "",
        "kernelspec": {
            "display_name": "R",
            "langauge": "R",
            "name": "ir"
        },
        "language_info": {
            "codemirror_mode": "r",
            "file_extension": ".r",
            "mimetype": "text/x-r-source",
            "name": "R",
            "pygments_lexer": "r",
            "version": "3.4.1"
        }
    },
    "nbformat": 4,
    "nbformat_minor": 1
}
